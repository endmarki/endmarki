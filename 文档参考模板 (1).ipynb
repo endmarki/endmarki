{
 "cells": [
  {
   "cell_type": "markdown",
   "metadata": {
    "papermill": {
     "duration": 0.064233,
     "end_time": "2021-01-04T15:06:20.722797",
     "exception": false,
     "start_time": "2021-01-04T15:06:20.658564",
     "status": "completed"
    },
    "tags": []
   },
   "source": [
    "# 基于随机森林的电商未来销量预测分析<a id=\"10\"></a>\n",
    "\n",
    ">小组分工\n",
    "- 队长：姓名：XXX，  学号：XXX，  任务：  \n",
    "- 成员：\n",
    "- 成员：\n",
    "\n",
    "![](../img/competition.png)\n",
    "\n"
   ]
  },
  {
   "cell_type": "markdown",
   "metadata": {},
   "source": [
    "## 背景介绍\n",
    "- **[Predict Future Sales](https://www.kaggle.com/c/competitive-data-science-predict-future-sales/overview)**是kaggle上的一个电商销量预测比赛，需要我们预测俄罗斯公司1C Company的未来销售.....\n",
    "\n",
    "- 附带资料\n",
    "\n",
    "    [比赛的notebook分享区](https://www.kaggle.com/c/competitive-data-science-predict-future-sales/notebooks?competitionId=8587&sortBy=scoreAscending)可以找到很多的solution notebook，包括非常好的数据探索分析、数据预处理、特征工程和建模及优化。"
   ]
  },
  {
   "cell_type": "markdown",
   "metadata": {},
   "source": [
    "## 数据描述及加载\n",
    "数据来源、变量解释等"
   ]
  },
  {
   "cell_type": "markdown",
   "metadata": {},
   "source": []
  },
  {
   "cell_type": "code",
   "execution_count": 1,
   "metadata": {
    "_cell_guid": "b1076dfc-b9ad-4769-8c92-a6c4dae69d19",
    "_uuid": "8f2839f25d086af736a60e9eeb907d3b93b6e0e5",
    "execution": {
     "iopub.execute_input": "2021-01-04T15:06:20.852918Z",
     "iopub.status.busy": "2021-01-04T15:06:20.851936Z",
     "iopub.status.idle": "2021-01-04T15:06:22.571430Z",
     "shell.execute_reply": "2021-01-04T15:06:22.572067Z"
    },
    "papermill": {
     "duration": 1.785534,
     "end_time": "2021-01-04T15:06:22.572264",
     "exception": false,
     "start_time": "2021-01-04T15:06:20.786730",
     "status": "completed"
    },
    "tags": []
   },
   "outputs": [],
   "source": [
    "# 导入工具库并做pandas基础设定\n",
    "import pandas as pd\n",
    "import numpy as np\n",
    "from itertools import product\n",
    "from collections import Counter\n",
    "from sklearn.cluster import KMeans\n",
    "from sklearn.preprocessing import LabelEncoder\n",
    "import category_encoders as ce\n",
    "import warnings\n",
    "\n",
    "pd.set_option('display.max_rows', 400)\n",
    "pd.set_option('display.max_columns', 160)\n",
    "pd.set_option('display.max_colwidth', 40)\n",
    "warnings.filterwarnings(\"ignore\")"
   ]
  },
  {
   "cell_type": "markdown",
   "metadata": {
    "papermill": {
     "duration": 0.061702,
     "end_time": "2021-01-04T15:06:22.697739",
     "exception": false,
     "start_time": "2021-01-04T15:06:22.636037",
     "status": "completed"
    },
    "tags": []
   },
   "source": [
    "## 数据预处理与特征工程"
   ]
  },
  {
   "cell_type": "markdown",
   "metadata": {
    "papermill": {
     "duration": 0.061977,
     "end_time": "2021-01-04T15:06:22.822967",
     "exception": false,
     "start_time": "2021-01-04T15:06:22.760990",
     "status": "completed"
    },
    "tags": []
   },
   "source": [
    "### 加载数据"
   ]
  },
  {
   "cell_type": "code",
   "execution_count": null,
   "metadata": {},
   "outputs": [],
   "source": []
  },
  {
   "cell_type": "markdown",
   "metadata": {
    "papermill": {
     "duration": 0.065652,
     "end_time": "2021-01-04T15:06:23.813112",
     "exception": false,
     "start_time": "2021-01-04T15:06:23.747460",
     "status": "completed"
    },
    "tags": []
   },
   "source": [
    "### 数据预处理\n",
    "缺失值处理、异常值处理、归一化等，最终形成建模所需数据集。"
   ]
  },
  {
   "cell_type": "code",
   "execution_count": null,
   "metadata": {},
   "outputs": [],
   "source": []
  },
  {
   "cell_type": "markdown",
   "metadata": {
    "papermill": {
     "duration": 0.067209,
     "end_time": "2021-01-04T15:06:25.519477",
     "exception": false,
     "start_time": "2021-01-04T15:06:25.452268",
     "status": "completed"
    },
    "tags": []
   },
   "source": [
    "### 数据探索性分析\n",
    "变量统计特征"
   ]
  },
  {
   "cell_type": "code",
   "execution_count": null,
   "metadata": {},
   "outputs": [],
   "source": []
  },
  {
   "cell_type": "markdown",
   "metadata": {
    "papermill": {
     "duration": 0.072638,
     "end_time": "2021-01-04T15:08:15.826989",
     "exception": false,
     "start_time": "2021-01-04T15:08:15.754351",
     "status": "completed"
    },
    "tags": []
   },
   "source": [
    "这些特征，每个都有3个滞后特征字段返回：\n",
    "* lag1显示上个月的值\n",
    "* lag2显示两个月前的值\n",
    "* lag1to12是过去12个月中的值之和\n",
    "\n",
    "为了防止数据泄露，我们在构建了这些字段之后，把原始字段删除"
   ]
  },
  {
   "cell_type": "markdown",
   "metadata": {
    "papermill": {
     "duration": 0.074965,
     "end_time": "2021-01-04T15:41:39.083713",
     "exception": false,
     "start_time": "2021-01-04T15:41:39.008748",
     "status": "completed"
    },
    "tags": []
   },
   "source": [
    "## 建模"
   ]
  },
  {
   "cell_type": "code",
   "execution_count": 47,
   "metadata": {
    "execution": {
     "iopub.execute_input": "2021-01-04T15:41:39.241418Z",
     "iopub.status.busy": "2021-01-04T15:41:39.240726Z",
     "iopub.status.idle": "2021-01-04T15:41:40.947667Z",
     "shell.execute_reply": "2021-01-04T15:41:40.946694Z"
    },
    "papermill": {
     "duration": 1.789726,
     "end_time": "2021-01-04T15:41:40.947789",
     "exception": false,
     "start_time": "2021-01-04T15:41:39.158063",
     "status": "completed"
    },
    "tags": []
   },
   "outputs": [
    {
     "data": {
      "text/html": [
       "<style type='text/css'>\n",
       ".datatable table.frame { margin-bottom: 0; }\n",
       ".datatable table.frame thead { border-bottom: none; }\n",
       ".datatable table.frame tr.coltypes td {  color: #FFFFFF;  line-height: 6px;  padding: 0 0.5em;}\n",
       ".datatable .bool    { background: #DDDD99; }\n",
       ".datatable .object  { background: #565656; }\n",
       ".datatable .int     { background: #5D9E5D; }\n",
       ".datatable .float   { background: #4040CC; }\n",
       ".datatable .str     { background: #CC4040; }\n",
       ".datatable .row_index {  background: var(--jp-border-color3);  border-right: 1px solid var(--jp-border-color0);  color: var(--jp-ui-font-color3);  font-size: 9px;}\n",
       ".datatable .frame tr.coltypes .row_index {  background: var(--jp-border-color0);}\n",
       ".datatable th:nth-child(2) { padding-left: 12px; }\n",
       ".datatable .hellipsis {  color: var(--jp-cell-editor-border-color);}\n",
       ".datatable .vellipsis {  background: var(--jp-layout-color0);  color: var(--jp-cell-editor-border-color);}\n",
       ".datatable .na {  color: var(--jp-cell-editor-border-color);  font-size: 80%;}\n",
       ".datatable .footer { font-size: 9px; }\n",
       ".datatable .frame_dimensions {  background: var(--jp-border-color3);  border-top: 1px solid var(--jp-border-color0);  color: var(--jp-ui-font-color3);  display: inline-block;  opacity: 0.6;  padding: 1px 10px 1px 5px;}\n",
       "</style>\n"
      ],
      "text/plain": [
       "<IPython.core.display.HTML object>"
      ]
     },
     "metadata": {},
     "output_type": "display_data"
    }
   ],
   "source": [
    "import pandas as pd\n",
    "import numpy as np\n",
    "import lightgbm as lgb\n",
    "import shap\n",
    "from plotly.subplots import make_subplots\n",
    "import plotly.graph_objects as go\n",
    "\n",
    "pd.set_option('display.max_rows', 160)\n",
    "pd.set_option('display.max_columns', 160)\n",
    "pd.set_option('display.max_colwidth', 30)\n",
    "\n",
    "import warnings\n",
    "warnings.filterwarnings(\"ignore\")"
   ]
  },
  {
   "cell_type": "markdown",
   "metadata": {
    "papermill": {
     "duration": 0.074264,
     "end_time": "2021-01-04T15:41:41.097390",
     "exception": false,
     "start_time": "2021-01-04T15:41:41.023126",
     "status": "completed"
    },
    "tags": []
   },
   "source": [
    "### 切分数据\n",
    "构建训练集、验证集、测试集。"
   ]
  },
  {
   "cell_type": "code",
   "execution_count": 48,
   "metadata": {
    "execution": {
     "iopub.execute_input": "2021-01-04T15:41:41.253370Z",
     "iopub.status.busy": "2021-01-04T15:41:41.252694Z",
     "iopub.status.idle": "2021-01-04T15:42:25.043307Z",
     "shell.execute_reply": "2021-01-04T15:42:25.042703Z"
    },
    "papermill": {
     "duration": 43.8721,
     "end_time": "2021-01-04T15:42:25.043434",
     "exception": false,
     "start_time": "2021-01-04T15:41:41.171334",
     "status": "completed"
    },
    "tags": []
   },
   "outputs": [],
   "source": []
  },
  {
   "cell_type": "markdown",
   "metadata": {
    "papermill": {
     "duration": 0.07519,
     "end_time": "2021-01-04T15:42:25.194878",
     "exception": false,
     "start_time": "2021-01-04T15:42:25.119688",
     "status": "completed"
    },
    "tags": []
   },
   "source": [
    "### 模型训练\n"
   ]
  },
  {
   "cell_type": "markdown",
   "metadata": {
    "papermill": {
     "duration": 0.081666,
     "end_time": "2021-01-04T16:07:14.129380",
     "exception": false,
     "start_time": "2021-01-04T16:07:14.047714",
     "status": "completed"
    },
    "tags": []
   },
   "source": [
    "### 比较分析"
   ]
  },
  {
   "cell_type": "code",
   "execution_count": 52,
   "metadata": {
    "execution": {
     "iopub.execute_input": "2021-01-04T16:07:14.303211Z",
     "iopub.status.busy": "2021-01-04T16:07:14.302517Z",
     "iopub.status.idle": "2021-01-04T16:07:26.632840Z",
     "shell.execute_reply": "2021-01-04T16:07:26.633394Z"
    },
    "papermill": {
     "duration": 12.422723,
     "end_time": "2021-01-04T16:07:26.633564",
     "exception": false,
     "start_time": "2021-01-04T16:07:14.210841",
     "status": "completed"
    },
    "tags": []
   },
   "outputs": [],
   "source": []
  },
  {
   "cell_type": "markdown",
   "metadata": {},
   "source": [
    "## 结论"
   ]
  },
  {
   "cell_type": "markdown",
   "metadata": {},
   "source": [
    "## 参考资料"
   ]
  },
  {
   "cell_type": "markdown",
   "metadata": {},
   "source": [
    ">本内容参考自[kaggle销量预测比赛选手解法notebooks](https://www.kaggle.com/c/competitive-data-science-predict-future-sales/notebooks)"
   ]
  },
  {
   "cell_type": "code",
   "execution_count": null,
   "metadata": {},
   "outputs": [],
   "source": []
  }
 ],
 "metadata": {
  "kernelspec": {
   "display_name": "Python 3",
   "language": "python",
   "name": "python3"
  },
  "language_info": {
   "codemirror_mode": {
    "name": "ipython",
    "version": 3
   },
   "file_extension": ".py",
   "mimetype": "text/x-python",
   "name": "python",
   "nbconvert_exporter": "python",
   "pygments_lexer": "ipython3",
   "version": "3.7.4"
  },
  "latex_envs": {
   "LaTeX_envs_menu_present": true,
   "autoclose": false,
   "autocomplete": true,
   "bibliofile": "biblio.bib",
   "cite_by": "apalike",
   "current_citInitial": 1,
   "eqLabelWithNumbers": true,
   "eqNumInitial": 1,
   "hotkeys": {
    "equation": "Ctrl-E",
    "itemize": "Ctrl-I"
   },
   "labels_anchors": false,
   "latex_user_defs": false,
   "report_style_numbering": false,
   "user_envs_cfg": false
  },
  "papermill": {
   "duration": 6410.201466,
   "end_time": "2021-01-04T16:53:05.820588",
   "environment_variables": {},
   "exception": null,
   "input_path": "__notebook__.ipynb",
   "output_path": "__notebook__.ipynb",
   "parameters": {},
   "start_time": "2021-01-04T15:06:15.619122",
   "version": "2.1.0"
  },
  "toc": {
   "base_numbering": 1,
   "nav_menu": {},
   "number_sections": true,
   "sideBar": true,
   "skip_h1_title": false,
   "title_cell": "Table of Contents",
   "title_sidebar": "Contents",
   "toc_cell": false,
   "toc_position": {
    "height": "calc(100% - 180px)",
    "left": "10px",
    "top": "150px",
    "width": "210.531px"
   },
   "toc_section_display": true,
   "toc_window_display": true
  }
 },
 "nbformat": 4,
 "nbformat_minor": 4
}
